{
 "cells": [
  {
   "cell_type": "code",
   "execution_count": null,
   "metadata": {},
   "outputs": [],
   "source": [
    "from Bio import AlignIO\n",
    "from Bio import Phylo\n",
    "\n",
    "#After the multiple sequence alignment in MUSCLE website. Then, the Alignment in CLUSTAL format clw was downloaded\n",
    "#If you want, rename the downloaded file\n",
    "with open(\"/Users/userprofile/Downloads/muscle.clw\", \"r\") as aln: \n",
    "    alignment = AlignIO.read(aln, \"clustal\")\n",
    "print(type(alignment))\n",
    "\n",
    "from Bio.Phylo.TreeConstruction import DistanceCalculator\n",
    "\n",
    "calculator = DistanceCalculator (\"blosum62\") #for distance calculation\n",
    "\n",
    "distance_matrix = calculator.get_distance(alignment)\n",
    "print(distance_matrix)\n",
    "\n",
    "from Bio.Phylo.TreeConstruction import DistanceTreeConstructor\n",
    "constructor = DistanceTreeConstructor(calculator)\n",
    "\n",
    "tree = constructor.build_tree(alignment)\n",
    "tree.rooted = True\n",
    "print(tree)\n",
    "\n",
    "import matplotlib\n",
    "import matplotlib.pyplot as plt\n",
    "\n",
    "#Arrange the settings for the size of the phylogenetic tree\n",
    "figure_of_toxins = plt.figure(figsize=(10, 8), dpi=100) \n",
    "matplotlib.rc('xtick', labelsize=8)       \n",
    "matplotlib.rc('ytick', labelsize=8)   \n",
    "matplotlib.rc('font', size=6)     \n",
    "axes = figure_of_toxins.add_subplot(1, 1, 1)\n",
    "\n",
    "Phylo.draw(tree, axes=axes)"
   ]
  }
 ],
 "metadata": {
  "kernelspec": {
   "display_name": "base",
   "language": "python",
   "name": "python3"
  },
  "language_info": {
   "name": "python",
   "version": "3.9.7 (default, Sep 16 2021, 08:50:36) \n[Clang 10.0.0 ]"
  },
  "orig_nbformat": 4,
  "vscode": {
   "interpreter": {
    "hash": "f9a62ac877e260613139e76a422659ee495ee77b1cd551fc3a736e2f7bafa0b3"
   }
  }
 },
 "nbformat": 4,
 "nbformat_minor": 2
}
